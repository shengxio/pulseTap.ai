{
 "cells": [
  {
   "cell_type": "markdown",
   "metadata": {},
   "source": [
    "### 0.0 Package environment setup"
   ]
  },
  {
   "cell_type": "code",
   "execution_count": 96,
   "metadata": {},
   "outputs": [],
   "source": [
    "# Required Imports\n",
    "from selenium import webdriver\n",
    "from bs4 import BeautifulSoup as bs\n",
    "from utility import *\n",
    "from keys import *\n",
    "\n",
    "import time\n",
    "import pandas as pd\n",
    "import numpy as np\n",
    "import re"
   ]
  },
  {
   "cell_type": "code",
   "execution_count": 2,
   "metadata": {},
   "outputs": [],
   "source": [
    "def htmlTable2df(raw_html):\n",
    "    row = re.compile('<tr>(.*?)</tr>')\n",
    "    row_ls = re.findall(row,raw_html)\n",
    "    cell = re.compile('t.*?>(.*?)</t')\n",
    "    table_ls = [re.findall(cell,c) for c in row_ls]\n",
    "    company_df = pd.DataFrame(table_ls[1:],columns = table_ls[0])\n",
    "    return company_df"
   ]
  },
  {
   "cell_type": "code",
   "execution_count": 3,
   "metadata": {},
   "outputs": [],
   "source": [
    "def removeNuance(x):\n",
    "    r = x.replace('&amp;','and')\n",
    "    return r"
   ]
  },
  {
   "cell_type": "markdown",
   "metadata": {},
   "source": [
    "### 1.0 get company list"
   ]
  },
  {
   "cell_type": "code",
   "execution_count": 59,
   "metadata": {},
   "outputs": [],
   "source": [
    "import random\n",
    "from googlesearch import search\n",
    "\n",
    "def getLinkedinLink(df):\n",
    "    Linkedin_ls = []\n",
    "    start = time.time()\n",
    "    total = df.shape[0]\n",
    "    \n",
    "    for i,row in df.iterrows():\n",
    "        while(True):\n",
    "            try:\n",
    "                urls = search(row['name']+' linkedin',num_results=10)\n",
    "                for u in urls:\n",
    "                    if 'linkedin' in u:\n",
    "                        linkedin_url = u\n",
    "                        break\n",
    "                    else:\n",
    "                        linkedin_url = 'na'\n",
    "\n",
    "                Linkedin_ls.append(linkedin_url)\n",
    "                break\n",
    "            except IndexError:\n",
    "                Linkedin_ls.append('not found')\n",
    "            except Exception as err:\n",
    "                print(err)\n",
    "                time.sleep(random.randrange(0,20))\n",
    "        print('searching linkedin page:',i+1,'/',total,'time elapse:',time.time()-start,end='\\r')\n",
    "\n",
    "    df['Linkedin']=pd.Series(Linkedin_ls)\n",
    "    \n",
    "    return df"
   ]
  },
  {
   "cell_type": "code",
   "execution_count": 52,
   "metadata": {},
   "outputs": [],
   "source": [
    "pages = {'https://www.enr.com/toplists/2021-Top-500-Design-Firms-':5,\n",
    "         'https://www.enr.com/toplists/2021-Top-400-Contractors-':4,\n",
    "         'https://www.enr.com/toplists/2020-Top-150-Global-Design-Firms-':2,\n",
    "         'https://www.enr.com/toplists/2020-Top-250-Global-Contractors-':3}"
   ]
  },
  {
   "cell_type": "code",
   "execution_count": 53,
   "metadata": {},
   "outputs": [],
   "source": [
    "#accessing Chromedriver\n",
    "browser = webdriver.Chrome('chromedriver')\n",
    "\n",
    "#Open login page\n",
    "browser.get(ENR_cred['login url'])\n",
    "\n",
    "#Enter login info:\n",
    "elementID = browser.find_element_by_id('id13')\n",
    "elementID.send_keys(ENR_cred['username'])\n",
    "\n",
    "elementID = browser.find_element_by_id('id16')\n",
    "elementID.send_keys(ENR_cred['password'])\n",
    "elementID.submit()"
   ]
  },
  {
   "cell_type": "code",
   "execution_count": 54,
   "metadata": {},
   "outputs": [],
   "source": [
    "containers={}\n",
    "for key,value in pages.items():\n",
    "    containers[key] = []\n",
    "    for i in range(value):\n",
    "        browser.get(key+str(i+1))\n",
    "        company_page = browser.page_source\n",
    "        \n",
    "        enr_soup = bs(company_page.encode('utf-8'),'html')\n",
    "        enr_soup.prettify()\n",
    "        \n",
    "        containers[key].append(enr_soup.findAll(\"table\",{\"class\":\"dcf-table dcf-table-responsive dcf-table-bordered dcf-table-striped dcf-w-100%\"}))"
   ]
  },
  {
   "cell_type": "code",
   "execution_count": 55,
   "metadata": {},
   "outputs": [],
   "source": [
    "dataframes = []\n",
    "\n",
    "for key,content in containers.items():\n",
    "    companies_df = pd.DataFrame()\n",
    "    for table_list in content:\n",
    "        raw_html=str(table_list[0]).replace('\\n','')\n",
    "        segament_df = htmlTable2df(raw_html)\n",
    "        #print(segament_df)\n",
    "        companies_df=companies_df.append(segament_df,ignore_index=True)\n",
    "    dataframes.append(companies_df)\n",
    "\n",
    "# dataframes"
   ]
  },
  {
   "cell_type": "code",
   "execution_count": 57,
   "metadata": {},
   "outputs": [],
   "source": [
    "design_df = dataframes[0]\n",
    "\n",
    "design_df['name'] = design_df['FIRM'].apply(lambda x: x.split(',')[0])\n",
    "design_df['city'] = design_df['FIRM'].apply(lambda x: x.split(',')[1])\n",
    "design_df['state'] = design_df['FIRM'].apply(lambda x: x.split(',')[2])\n",
    "design_df = design_df.drop('FIRM',axis=1)"
   ]
  },
  {
   "cell_type": "code",
   "execution_count": 56,
   "metadata": {},
   "outputs": [],
   "source": [
    "contractor_df = dataframes[1]\n",
    "g_design_df = dataframes[2]\n",
    "g_contractor_df = dataframes[3]\n",
    "\n",
    "contractor_df['name'] = contractor_df['FIRM'].apply(lambda x: x.split(',')[0])\n",
    "g_design_df['name'] = g_design_df['FIRM'].apply(lambda x: x.split(',')[0])\n",
    "g_contractor_df['name'] = g_contractor_df['FIRM'].apply(lambda x: x.split(',')[0])"
   ]
  },
  {
   "cell_type": "code",
   "execution_count": 58,
   "metadata": {},
   "outputs": [],
   "source": [
    "design_df['name'] = design_df['name'].apply(removeNuance)\n",
    "contractor_df['name'] = contractor_df['name'].apply(removeNuance)\n",
    "g_design_df['name'] = g_design_df['name'].apply(removeNuance)\n",
    "g_contractor_df['name'] = g_contractor_df['name'].apply(removeNuance)"
   ]
  },
  {
   "cell_type": "code",
   "execution_count": 60,
   "metadata": {},
   "outputs": [
    {
     "name": "stdout",
     "output_type": "stream",
     "text": [
      "searching linkedin page: 400 / 400 time elapse: 366.08704638481143\r"
     ]
    }
   ],
   "source": [
    "contractor_df = getLinkedinLink(contractor_df)\n",
    "g_design_df = getLinkedinLink(g_design_df)\n",
    "g_contractor_df = getLinkedinLink(g_contractor_df)"
   ]
  },
  {
   "cell_type": "code",
   "execution_count": 62,
   "metadata": {
    "collapsed": true,
    "jupyter": {
     "outputs_hidden": true
    }
   },
   "outputs": [
    {
     "data": {
      "text/html": [
       "<div>\n",
       "<style scoped>\n",
       "    .dataframe tbody tr th:only-of-type {\n",
       "        vertical-align: middle;\n",
       "    }\n",
       "\n",
       "    .dataframe tbody tr th {\n",
       "        vertical-align: top;\n",
       "    }\n",
       "\n",
       "    .dataframe thead th {\n",
       "        text-align: right;\n",
       "    }\n",
       "</style>\n",
       "<table border=\"1\" class=\"dataframe\">\n",
       "  <thead>\n",
       "    <tr style=\"text-align: right;\">\n",
       "      <th></th>\n",
       "      <th>RANK 2021</th>\n",
       "      <th>RANK 2020</th>\n",
       "      <th>FIRM</th>\n",
       "      <th>2021</th>\n",
       "      <th>2020</th>\n",
       "      <th>name</th>\n",
       "      <th>Linkedin</th>\n",
       "    </tr>\n",
       "  </thead>\n",
       "  <tbody>\n",
       "    <tr>\n",
       "      <th>0</th>\n",
       "      <td>1</td>\n",
       "      <td>2</td>\n",
       "      <td>THE TURNER CORP., New York, N.Y.</td>\n",
       "      <td>NaN</td>\n",
       "      <td>NaN</td>\n",
       "      <td>THE TURNER CORP.</td>\n",
       "      <td>https://www.linkedin.com/company/turner-constr...</td>\n",
       "    </tr>\n",
       "    <tr>\n",
       "      <th>1</th>\n",
       "      <td>2</td>\n",
       "      <td>1</td>\n",
       "      <td>BECHTEL, Reston, Va.†</td>\n",
       "      <td>NaN</td>\n",
       "      <td>NaN</td>\n",
       "      <td>BECHTEL</td>\n",
       "      <td>https://www.linkedin.com/company/bechtel-corpo...</td>\n",
       "    </tr>\n",
       "    <tr>\n",
       "      <th>2</th>\n",
       "      <td>3</td>\n",
       "      <td>**</td>\n",
       "      <td>FLUOR, Irving, Texas†</td>\n",
       "      <td>NaN</td>\n",
       "      <td>NaN</td>\n",
       "      <td>FLUOR</td>\n",
       "      <td>https://ca.linkedin.com/company/fluor</td>\n",
       "    </tr>\n",
       "    <tr>\n",
       "      <th>3</th>\n",
       "      <td>4</td>\n",
       "      <td>5</td>\n",
       "      <td>KIEWIT CORP., Omaha, Neb.†</td>\n",
       "      <td>NaN</td>\n",
       "      <td>NaN</td>\n",
       "      <td>KIEWIT CORP.</td>\n",
       "      <td>https://www.linkedin.com/company/kiewit</td>\n",
       "    </tr>\n",
       "    <tr>\n",
       "      <th>4</th>\n",
       "      <td>5</td>\n",
       "      <td>4</td>\n",
       "      <td>THE WHITING-TURNER CONTRACTING CO., Baltimore,...</td>\n",
       "      <td>NaN</td>\n",
       "      <td>NaN</td>\n",
       "      <td>THE WHITING-TURNER CONTRACTING CO.</td>\n",
       "      <td>https://www.linkedin.com/company/the-whiting-t...</td>\n",
       "    </tr>\n",
       "  </tbody>\n",
       "</table>\n",
       "</div>"
      ],
      "text/plain": [
       "  RANK 2021 RANK 2020                                               FIRM 2021  \\\n",
       "0         1         2                   THE TURNER CORP., New York, N.Y.  NaN   \n",
       "1         2         1                              BECHTEL, Reston, Va.†  NaN   \n",
       "2         3        **                              FLUOR, Irving, Texas†  NaN   \n",
       "3         4         5                         KIEWIT CORP., Omaha, Neb.†  NaN   \n",
       "4         5         4  THE WHITING-TURNER CONTRACTING CO., Baltimore,...  NaN   \n",
       "\n",
       "  2020                                name  \\\n",
       "0  NaN                    THE TURNER CORP.   \n",
       "1  NaN                             BECHTEL   \n",
       "2  NaN                               FLUOR   \n",
       "3  NaN                        KIEWIT CORP.   \n",
       "4  NaN  THE WHITING-TURNER CONTRACTING CO.   \n",
       "\n",
       "                                            Linkedin  \n",
       "0  https://www.linkedin.com/company/turner-constr...  \n",
       "1  https://www.linkedin.com/company/bechtel-corpo...  \n",
       "2              https://ca.linkedin.com/company/fluor  \n",
       "3            https://www.linkedin.com/company/kiewit  \n",
       "4  https://www.linkedin.com/company/the-whiting-t...  "
      ]
     },
     "execution_count": 62,
     "metadata": {},
     "output_type": "execute_result"
    }
   ],
   "source": [
    "contractor_df.head()"
   ]
  },
  {
   "cell_type": "markdown",
   "metadata": {},
   "source": [
    "### 2.0 Linkedin post scraper."
   ]
  },
  {
   "cell_type": "code",
   "execution_count": 69,
   "metadata": {},
   "outputs": [],
   "source": [
    "# Required Imports\n",
    "from selenium import webdriver\n",
    "from bs4 import BeautifulSoup as bs\n",
    "import time\n",
    "import pandas as pd\n",
    "import re"
   ]
  },
  {
   "cell_type": "code",
   "execution_count": 71,
   "metadata": {},
   "outputs": [],
   "source": [
    "from keys import *"
   ]
  },
  {
   "cell_type": "code",
   "execution_count": 94,
   "metadata": {},
   "outputs": [],
   "source": [
    "#accessing Chromedriver\n",
    "browser = webdriver.Chrome('chromedriver')\n",
    "\n",
    "\n",
    "#Open login page\n",
    "browser.get(LINKEDIN_cred['login url'])\n",
    "\n",
    "#Enter login info:\n",
    "elementID = browser.find_element_by_id('username')\n",
    "elementID.send_keys(LINKEDIN_cred['username'])\n",
    "\n",
    "elementID = browser.find_element_by_id('password')\n",
    "#elementID.send_keys(LINKEDIN_cred['password'])\n",
    "elementID.send_keys('ThruSilver27')\n",
    "elementID.submit()"
   ]
  },
  {
   "cell_type": "code",
   "execution_count": 74,
   "metadata": {},
   "outputs": [],
   "source": [
    "default_selectors = {'post':['div',{\"class\":\"feed-shared-update-v2 feed-shared-update-v2--minimal-padding full-height relative feed-shared-update-v2--e2e artdeco-card ember-view\"}],\n",
    "                     'date':['span',{\"class\":\"visually-hidden\"}],\n",
    "                     'text':['span',{\"class\":\"break-words\"}],\n",
    "                     'reaction':['span',{\"class\":\"v-align-middle social-details-social-counts__reactions-count\"}],\n",
    "                     'comment':['li',{\"class\": \"social-details-social-counts__comments social-details-social-counts__item\"}]\n",
    "                    }"
   ]
  },
  {
   "cell_type": "code",
   "execution_count": 76,
   "metadata": {},
   "outputs": [],
   "source": [
    "def getLinkedinPosts(linkedinLink,selector=default_selectors['post']):\n",
    "    #Go to company post webpage\n",
    "    browser.get(linkedinLink + '/posts/')\n",
    "\n",
    "    #Simulate scrolling to capture all posts\n",
    "    SCROLL_PAUSE_TIME = 1.5\n",
    "\n",
    "    # Get scroll height\n",
    "    last_height = browser.execute_script(\"return document.body.scrollHeight\")\n",
    "\n",
    "    while True:\n",
    "        # Scroll down to bottom\n",
    "        browser.execute_script(\"window.scrollTo(0, document.body.scrollHeight);\")\n",
    "\n",
    "        # Wait to load page\n",
    "        time.sleep(SCROLL_PAUSE_TIME)\n",
    "\n",
    "        # Calculate new scroll height and compare with last scroll height\n",
    "        new_height = browser.execute_script(\"return document.body.scrollHeight\")\n",
    "        if new_height == last_height:\n",
    "            break\n",
    "        last_height = new_height\n",
    "    company_page = browser.page_source  \n",
    "    company_soup = bs(company_page.encode(\"utf-8\"), \"html\")\n",
    "    company_soup.prettify()\n",
    "    \n",
    "    containers = company_soup.findAll(selector[0],selector[1])\n",
    "    return containers"
   ]
  },
  {
   "cell_type": "code",
   "execution_count": 77,
   "metadata": {},
   "outputs": [],
   "source": [
    "def containers2lists(containers,selectors=default_selectors):\n",
    "    # Lists that we will iterate to\n",
    "    post_dates = []\n",
    "    post_texts = []\n",
    "    post_react = []\n",
    "\n",
    "    #Looping through the posts and appending them to the lists\n",
    "    for container in containers:\n",
    "\n",
    "        #Try function to make sure its a post and not a promotion\n",
    "        try:\n",
    "            posted_date = container.find(selectors['date'][0],selectors['date'][1])\n",
    "            text_box    = container.find(selectors['text'][0],selectors['text'][1])\n",
    "            text        = text_box.find(\"span\",{\"dir\":\"ltr\"})\n",
    "            reaction    = container.find(selectors['reaction'][0],selectors['reaction'][1])\n",
    "\n",
    "            post_dates.append(posted_date.text.strip())\n",
    "            post_texts.append(text.text.strip())\n",
    "            post_react.append(int(reaction.text.strip()))\n",
    "\n",
    "        except:\n",
    "            pass\n",
    "    return {'texts':post_texts,'dates':post_dates,'reactions':post_react}"
   ]
  },
  {
   "cell_type": "code",
   "execution_count": 92,
   "metadata": {},
   "outputs": [],
   "source": [
    "def linkedin2containers_ls(df,containers_ls=[], skip = 0):\n",
    "    total = df.shape[0]\n",
    "    start = time.time()\n",
    "    \n",
    "    for i,row in df.iterrows():\n",
    "        if i < len(containers_ls)+skip:\n",
    "            pass\n",
    "        else:\n",
    "            try:\n",
    "                containers_ls.append(getLinkedinPosts(row['Linkedin']))\n",
    "            except:\n",
    "                containers_ls.append(np.nan)\n",
    "        print('scraped Linkedin posts',i+1,'/',total,'time elapse:',time.time()-start,end='\\r')\n",
    "\n",
    "    print('task completed')\n",
    "    return containers_ls"
   ]
  },
  {
   "cell_type": "code",
   "execution_count": 97,
   "metadata": {},
   "outputs": [
    {
     "name": "stdout",
     "output_type": "stream",
     "text": [
      "task completedin posts 400 / 400 time elapse: 111.2082493305206344349 / 400 time elapse: 0.1730809211730957\n"
     ]
    }
   ],
   "source": [
    "contractor_containers_ls = linkedin2containers_ls(contractor_df,contractor_containers_ls)"
   ]
  },
  {
   "cell_type": "code",
   "execution_count": 101,
   "metadata": {},
   "outputs": [
    {
     "data": {
      "text/plain": [
       "9"
      ]
     },
     "execution_count": 101,
     "metadata": {},
     "output_type": "execute_result"
    }
   ],
   "source": [
    "len(contractor_containers_ls[1])"
   ]
  },
  {
   "cell_type": "code",
   "execution_count": null,
   "metadata": {},
   "outputs": [],
   "source": [
    "result_ls = []\n",
    "total = len(containers_ls)\n",
    "start = time.time()\n",
    "i = 1\n",
    "for containers in containers_ls:\n",
    "    result_ls.append(containers2lists(containers))\n",
    "    print('sorting containers',i,'/',total,'time elapse:',time.time()-start,end='\\r')\n",
    "    i+=1"
   ]
  },
  {
   "cell_type": "code",
   "execution_count": null,
   "metadata": {},
   "outputs": [],
   "source": [
    "design_posts_df = pd.DataFrame(columns=['company','post','date','reaction_count'])\n",
    "i=0\n",
    "for d in result_ls:\n",
    "    for j in range(len(d['texts'])):\n",
    "        print(i,'-',j,end='\\r')\n",
    "        try:\n",
    "            row_df = pd.DataFrame([[design_df['name'][i],d['texts'][j],d['dates'][j],d['reactions'][j]]],columns=['company','post','date','reaction_count'])\n",
    "            design_posts_df=design_posts_df.append(row_df,ignore_index=True)\n",
    "        except IndexError:\n",
    "            pass\n",
    "    i+=1\n",
    "\n",
    "design_posts_df.head()"
   ]
  },
  {
   "cell_type": "markdown",
   "metadata": {},
   "source": [
    "### 2.1 saving and loading dataframes from pickle files"
   ]
  },
  {
   "cell_type": "code",
   "execution_count": 5,
   "metadata": {},
   "outputs": [],
   "source": [
    "import pickle\n",
    "\n",
    "with open('design_df.pkl','rb') as infile:\n",
    "    design_df = pickle.load(infile)\n",
    "    \n",
    "with open('design_posts_df.pkl','rb') as infile:\n",
    "    design_posts_df = pickle.load(infile)"
   ]
  },
  {
   "cell_type": "code",
   "execution_count": 55,
   "metadata": {},
   "outputs": [],
   "source": [
    "from transformers import pipeline\n",
    "\n",
    "with open('HF_sentiment-analysis.pkl','rb') as infile:\n",
    "    HF_sa = pickle.load(infile)"
   ]
  },
  {
   "cell_type": "code",
   "execution_count": 144,
   "metadata": {},
   "outputs": [],
   "source": [
    "with open('design_df.pkl','wb') as outfile:\n",
    "    pickle.dump(design_df,outfile)\n",
    "    \n",
    "with open('design_posts_df.pkl','wb') as outfile:\n",
    "    pickle.dump(design_posts_df,outfile)"
   ]
  },
  {
   "cell_type": "markdown",
   "metadata": {},
   "source": [
    "### 3.0 open AI sentiment analysis debatable due to the cost of the operation."
   ]
  },
  {
   "cell_type": "code",
   "execution_count": 6,
   "metadata": {},
   "outputs": [],
   "source": [
    "import os\n",
    "import openai\n",
    "from keys import *\n",
    "\n",
    "openai.api_key = OPENAI_API_KEY"
   ]
  },
  {
   "cell_type": "code",
   "execution_count": 7,
   "metadata": {},
   "outputs": [],
   "source": [
    "# this part utilize openai engine and it doesn't help with the \n",
    "def openaiWraper(text,application = 'sentiment classifier',engine = 'davinci'):\n",
    "    if application == 'sentiment classifier':\n",
    "        text_prompt = f'This is a Linkedin post sentiment classifier \\nLinkedin post:\"{text}\"\\nSentiment:'\n",
    "        max_token = 3\n",
    "    else:\n",
    "        text_prompt = text\n",
    "        max_token = 60\n",
    "        \n",
    "    response = openai.Completion.create(\n",
    "      engine=engine,\n",
    "      prompt=text_prompt,\n",
    "      temperature=0.3,\n",
    "      max_tokens=max_token,\n",
    "      top_p=1.0,\n",
    "      frequency_penalty=0.5,\n",
    "      presence_penalty=0.0,\n",
    "      stop=[\"###\"]\n",
    "    )\n",
    "    \n",
    "    text_return = response['choices'][0]['text']\n",
    "    \n",
    "    if application == 'sentiment classifier':\n",
    "        result = text_return.split()[0]\n",
    "    else:\n",
    "        result = text_return\n",
    "    \n",
    "    return result"
   ]
  },
  {
   "cell_type": "code",
   "execution_count": 20,
   "metadata": {
    "collapsed": true,
    "jupyter": {
     "outputs_hidden": true
    }
   },
   "outputs": [
    {
     "name": "stdout",
     "output_type": "stream",
     "text": [
      "completed: 499 / 50303 elapse: 114.13628840446472 / 50303 elapse: 0.68217182159423836 / 50303 elapse: 1.6359491348266602 9 / 50303 elapse: 2.1905674934387207elapse: 2.7565178871154785 15 / 50303 elapse: 3.335590362548828 elapse: 4.64248561859130950303 elapse: 7.221532821655273 50303 elapse: 8.69272470474243210.694081544876099 50303 elapse: 12.971747636795044 / 50303 elapse: 14.76635360717773480 / 50303 elapse: 16.62446188926696889 / 50303 elapse: 21.146673917770386 50303 elapse: 30.57827615737915 / 50303 elapse: 31.85441970825195350303 elapse: 42.75950026512146 44.18105673789978 205 / 50303 elapse: 44.92577004432678 elapse: 45.09790062904358 50303 elapse: 47.781819105148315248 / 50303 elapse: 55.96121883392334 elapse: 56.84711742401123 elapse: 61.18228673934936566.64834833145142 50303 elapse: 67.20583629608154 50303 elapse: 69.4339509010315 elapse: 71.25295877456665 317 / 50303 elapse: 72.3338646888732972.89491844177246330 / 50303 elapse: 76.92489767074585 50303 elapse: 78.45487904548645341 / 50303 elapse: 79.00210857391357elapse: 83.3364794254303/ 50303 elapse: 86.39832901954651elapse: 89.40138578414917 50303 elapse: 89.5901093482971250303 elapse: 91.97341823577881 elapse: 92.15585041046143 / 50303 elapse: 92.6948390007019396 / 50303 elapse: 93.24340224266052 elapse: 98.18868231773376 elapse: 102.59594440460205 107.21258234977722109.39335870742798\r"
     ]
    }
   ],
   "source": [
    "#sentiment_LS = []\n",
    "i = 0\n",
    "total = design_posts_df.shape[0]\n",
    "start = time.time()\n",
    "\n",
    "for i,row in design_posts_df.iterrows():\n",
    "    i+=1\n",
    "    if i<500:\n",
    "        continue\n",
    "        \n",
    "    try:\n",
    "        feedback = openaiWraper(row['post'],engine='curie').lower()\n",
    "    except:\n",
    "        feedback='error'\n",
    "    j = 0\n",
    "    \n",
    "    while('negative' not in feedback and \n",
    "          'positive' not in feedback and \n",
    "          'neutral' not in feedback and j<10):\n",
    "        try:\n",
    "            feedback = openaiWraper(row['post'],engine='curie').lower()\n",
    "        except:\n",
    "            feedback='error'\n",
    "        j += 1\n",
    "    if 'negative' not in feedback and \\\n",
    "       'positive' not in feedback and \\\n",
    "        'neutral' not in feedback:\n",
    "        feedback = 'undefined'\n",
    "    sentiment_LS.append(feedback)\n",
    "    print('completed:',i,'/',total,'elapse:',time.time()-start,end='\\r')\n",
    "    \n",
    "#len(sentiment_LS)"
   ]
  },
  {
   "cell_type": "code",
   "execution_count": 39,
   "metadata": {},
   "outputs": [
    {
     "name": "stdout",
     "output_type": "stream",
     "text": [
      "completed\n"
     ]
    },
    {
     "data": {
      "text/plain": [
       "5"
      ]
     },
     "execution_count": 39,
     "metadata": {},
     "output_type": "execute_result"
    }
   ],
   "source": [
    "emo_ls = []\n",
    "i=0\n",
    "while(True):\n",
    "    try:\n",
    "        emo_i = sentiment_LS.index('undefined',i)\n",
    "        emo_ls.append(emo_i)\n",
    "        i = emo_i+1\n",
    "    except:\n",
    "        print('completed')\n",
    "        break\n",
    "len(emo_ls)"
   ]
  },
  {
   "cell_type": "code",
   "execution_count": 36,
   "metadata": {},
   "outputs": [
    {
     "data": {
      "text/plain": [
       "483"
      ]
     },
     "execution_count": 36,
     "metadata": {},
     "output_type": "execute_result"
    }
   ],
   "source": [
    "5+474+4"
   ]
  },
  {
   "cell_type": "code",
   "execution_count": 28,
   "metadata": {},
   "outputs": [
    {
     "data": {
      "text/plain": [
       "'A best practice report from Urban Land Institute looks at how to define, create and optimize social value across the real estate industry.Jacobs Director of Economics Margarethe Theseira: \"Jacobs recognized the global pivot that is underway in moving investment decisions away from solely creating maximum financial return to a more holistic measurement framework that also includes wellbeing, environment and societal impacts. We are pleased to be working in partnership with Simetrica-Jacobs to provide our clients a bespoke approach to delivering social value through the design, build & operational phases of their investments.”Head of Cities Solutions Carlo Castelli said: “Our ability to use #socialvalue to tackle the spatial divide & empower individuals, communities & businesses to thrive is improving dramatically, but it requires constant focus to support the U.K.’s levelling up agenda and a holistic approach to human development.”Read the key findings ⬇️ http://jcob.co/mNht50E2pcKSpecial thanks to research partners The Good Economy and COCREATIF Limited and our research co-sponsors CBRE Global Investors Credit Suisse Estabona FORE Partnership Ivanhoé Cambridge'"
      ]
     },
     "execution_count": 28,
     "metadata": {},
     "output_type": "execute_result"
    }
   ],
   "source": [
    "#sentiment_LS\n",
    "design_posts_df['post'][84]"
   ]
  },
  {
   "cell_type": "code",
   "execution_count": null,
   "metadata": {},
   "outputs": [],
   "source": [
    "test_LS=[s.replace('\"','') for s in sentiment_LS]"
   ]
  },
  {
   "cell_type": "code",
   "execution_count": null,
   "metadata": {},
   "outputs": [],
   "source": []
  },
  {
   "cell_type": "markdown",
   "metadata": {},
   "source": [
    "### 4.0 bag of keywords occurance check."
   ]
  },
  {
   "cell_type": "code",
   "execution_count": 31,
   "metadata": {},
   "outputs": [],
   "source": [
    "# keywords extracted from the Lexicon\n",
    "\n",
    "keyword_ls=['team',\n",
    "           'capacity',\n",
    "           'effect',\n",
    "           'product',\n",
    "           'value',\n",
    "           'quality',\n",
    "           'capab',\n",
    "           'skill',\n",
    "           'community',\n",
    "            'communicat',\n",
    "           'reliab',\n",
    "           'inform',\n",
    "           'train',\n",
    "            'know',\n",
    "            'change',\n",
    "            'ability',\n",
    "            'cultur',\n",
    "            'network',\n",
    "            'tradition',\n",
    "            'learn',\n",
    "            'transition',\n",
    "            'perform'\n",
    "          ]"
   ]
  },
  {
   "cell_type": "code",
   "execution_count": 40,
   "metadata": {},
   "outputs": [],
   "source": [
    "design_df.to_csv('top500_design_firm.csv')\n",
    "design_posts_df.to_csv('top500_design_firm_linkedin_posts.csv')"
   ]
  },
  {
   "cell_type": "code",
   "execution_count": 24,
   "metadata": {},
   "outputs": [],
   "source": [
    "def getPostCount(name):\n",
    "    try:\n",
    "        return design_posts_df.groupby('company')['post'].count()[name]\n",
    "    except:\n",
    "        return 0"
   ]
  },
  {
   "cell_type": "code",
   "execution_count": 25,
   "metadata": {},
   "outputs": [],
   "source": [
    "design_df['post_count']=design_df['name'].apply(getPostCount)"
   ]
  },
  {
   "cell_type": "code",
   "execution_count": 29,
   "metadata": {},
   "outputs": [],
   "source": [
    "import seaborn as sns"
   ]
  },
  {
   "cell_type": "code",
   "execution_count": 30,
   "metadata": {},
   "outputs": [
    {
     "data": {
      "text/plain": [
       "<AxesSubplot:xlabel='post_count', ylabel='Count'>"
      ]
     },
     "execution_count": 30,
     "metadata": {},
     "output_type": "execute_result"
    },
    {
     "data": {
      "image/png": "[encoded data removed]",
      "text/plain": [
       "<Figure size 432x288 with 1 Axes>"
      ]
     },
     "metadata": {
      "needs_background": "light"
     },
     "output_type": "display_data"
    }
   ],
   "source": [
    "sns.histplot(design_df['post_count'])"
   ]
  },
  {
   "cell_type": "code",
   "execution_count": 51,
   "metadata": {},
   "outputs": [
    {
     "data": {
      "text/plain": [
       "101.0"
      ]
     },
     "execution_count": 51,
     "metadata": {},
     "output_type": "execute_result"
    }
   ],
   "source": [
    "design_posts_df.groupby('company')['post'].count().median()"
   ]
  },
  {
   "cell_type": "code",
   "execution_count": 48,
   "metadata": {},
   "outputs": [
    {
     "data": {
      "text/html": [
       "<div>\n",
       "<style scoped>\n",
       "    .dataframe tbody tr th:only-of-type {\n",
       "        vertical-align: middle;\n",
       "    }\n",
       "\n",
       "    .dataframe tbody tr th {\n",
       "        vertical-align: top;\n",
       "    }\n",
       "\n",
       "    .dataframe thead th {\n",
       "        text-align: right;\n",
       "    }\n",
       "</style>\n",
       "<table border=\"1\" class=\"dataframe\">\n",
       "  <thead>\n",
       "    <tr style=\"text-align: right;\">\n",
       "      <th></th>\n",
       "      <th>RANK 2021</th>\n",
       "      <th>RANK 2020</th>\n",
       "      <th>FIRM TYPE</th>\n",
       "      <th>name</th>\n",
       "      <th>city</th>\n",
       "      <th>state</th>\n",
       "      <th>Linkedin</th>\n",
       "      <th>count</th>\n",
       "    </tr>\n",
       "  </thead>\n",
       "  <tbody>\n",
       "    <tr>\n",
       "      <th>0</th>\n",
       "      <td>1</td>\n",
       "      <td>1</td>\n",
       "      <td>EAC</td>\n",
       "      <td>Jacobs</td>\n",
       "      <td>Dallas</td>\n",
       "      <td>Texas†</td>\n",
       "      <td>https://www.linkedin.com/company/jacobs</td>\n",
       "      <td>NaN</td>\n",
       "    </tr>\n",
       "    <tr>\n",
       "      <th>1</th>\n",
       "      <td>2</td>\n",
       "      <td>2</td>\n",
       "      <td>EA</td>\n",
       "      <td>AECOM</td>\n",
       "      <td>Los Angeles</td>\n",
       "      <td>Calif.</td>\n",
       "      <td>https://ca.linkedin.com/company/aecom</td>\n",
       "      <td>NaN</td>\n",
       "    </tr>\n",
       "    <tr>\n",
       "      <th>2</th>\n",
       "      <td>3</td>\n",
       "      <td>**</td>\n",
       "      <td>EC</td>\n",
       "      <td>Fluor Corp.</td>\n",
       "      <td>Irving</td>\n",
       "      <td>Texas†</td>\n",
       "      <td>https://www.linkedin.com/company/fluor</td>\n",
       "      <td>NaN</td>\n",
       "    </tr>\n",
       "    <tr>\n",
       "      <th>3</th>\n",
       "      <td>4</td>\n",
       "      <td>4</td>\n",
       "      <td>E</td>\n",
       "      <td>Tetra Tech Inc.</td>\n",
       "      <td>Pasadena</td>\n",
       "      <td>Calif.</td>\n",
       "      <td>https://www.linkedin.com/company/tetra-tech</td>\n",
       "      <td>NaN</td>\n",
       "    </tr>\n",
       "    <tr>\n",
       "      <th>4</th>\n",
       "      <td>5</td>\n",
       "      <td>**</td>\n",
       "      <td>EC</td>\n",
       "      <td>Worley</td>\n",
       "      <td>Houston</td>\n",
       "      <td>Texas†</td>\n",
       "      <td>https://au.linkedin.com/company/worley</td>\n",
       "      <td>NaN</td>\n",
       "    </tr>\n",
       "    <tr>\n",
       "      <th>...</th>\n",
       "      <td>...</td>\n",
       "      <td>...</td>\n",
       "      <td>...</td>\n",
       "      <td>...</td>\n",
       "      <td>...</td>\n",
       "      <td>...</td>\n",
       "      <td>...</td>\n",
       "      <td>...</td>\n",
       "    </tr>\n",
       "    <tr>\n",
       "      <th>495</th>\n",
       "      <td>496</td>\n",
       "      <td>**</td>\n",
       "      <td>A</td>\n",
       "      <td>KSS Architects</td>\n",
       "      <td>Princeton</td>\n",
       "      <td>N.J.</td>\n",
       "      <td>https://www.linkedin.com/company/kss-architects</td>\n",
       "      <td>NaN</td>\n",
       "    </tr>\n",
       "    <tr>\n",
       "      <th>496</th>\n",
       "      <td>497</td>\n",
       "      <td>**</td>\n",
       "      <td>EA</td>\n",
       "      <td>Lane Bishop York Delahay Inc.</td>\n",
       "      <td>Birmingham</td>\n",
       "      <td>Ala.</td>\n",
       "      <td>https://www.linkedin.com/company/lbyd-inc.</td>\n",
       "      <td>NaN</td>\n",
       "    </tr>\n",
       "    <tr>\n",
       "      <th>497</th>\n",
       "      <td>498</td>\n",
       "      <td>**</td>\n",
       "      <td>E</td>\n",
       "      <td>H.F. Lenz Co.</td>\n",
       "      <td>Johnstown</td>\n",
       "      <td>Pa.</td>\n",
       "      <td>https://www.linkedin.com/company/h.f.-lenz-com...</td>\n",
       "      <td>NaN</td>\n",
       "    </tr>\n",
       "    <tr>\n",
       "      <th>498</th>\n",
       "      <td>499</td>\n",
       "      <td>**</td>\n",
       "      <td>A</td>\n",
       "      <td>Harvard Jolly Architecture</td>\n",
       "      <td>St. Petersburg</td>\n",
       "      <td>Fla.</td>\n",
       "      <td>https://www.linkedin.com/company/harvard-jolly</td>\n",
       "      <td>NaN</td>\n",
       "    </tr>\n",
       "    <tr>\n",
       "      <th>499</th>\n",
       "      <td>500</td>\n",
       "      <td>**</td>\n",
       "      <td>E</td>\n",
       "      <td>BSC Group</td>\n",
       "      <td>Boston</td>\n",
       "      <td>Mass.</td>\n",
       "      <td>https://www.linkedin.com/company/bsc-group</td>\n",
       "      <td>NaN</td>\n",
       "    </tr>\n",
       "  </tbody>\n",
       "</table>\n",
       "<p>500 rows × 8 columns</p>\n",
       "</div>"
      ],
      "text/plain": [
       "    RANK 2021 RANK 2020 FIRM TYPE                           name  \\\n",
       "0           1         1       EAC                         Jacobs   \n",
       "1           2         2        EA                          AECOM   \n",
       "2           3        **        EC                    Fluor Corp.   \n",
       "3           4         4         E                Tetra Tech Inc.   \n",
       "4           5        **        EC                         Worley   \n",
       "..        ...       ...       ...                            ...   \n",
       "495       496        **         A                 KSS Architects   \n",
       "496       497        **        EA  Lane Bishop York Delahay Inc.   \n",
       "497       498        **         E                  H.F. Lenz Co.   \n",
       "498       499        **         A     Harvard Jolly Architecture   \n",
       "499       500        **         E                      BSC Group   \n",
       "\n",
       "                city    state  \\\n",
       "0             Dallas   Texas†   \n",
       "1        Los Angeles   Calif.   \n",
       "2             Irving   Texas†   \n",
       "3           Pasadena   Calif.   \n",
       "4            Houston   Texas†   \n",
       "..               ...      ...   \n",
       "495        Princeton     N.J.   \n",
       "496       Birmingham     Ala.   \n",
       "497        Johnstown      Pa.   \n",
       "498   St. Petersburg     Fla.   \n",
       "499           Boston    Mass.   \n",
       "\n",
       "                                              Linkedin  count  \n",
       "0              https://www.linkedin.com/company/jacobs    NaN  \n",
       "1                https://ca.linkedin.com/company/aecom    NaN  \n",
       "2               https://www.linkedin.com/company/fluor    NaN  \n",
       "3          https://www.linkedin.com/company/tetra-tech    NaN  \n",
       "4               https://au.linkedin.com/company/worley    NaN  \n",
       "..                                                 ...    ...  \n",
       "495    https://www.linkedin.com/company/kss-architects    NaN  \n",
       "496         https://www.linkedin.com/company/lbyd-inc.    NaN  \n",
       "497  https://www.linkedin.com/company/h.f.-lenz-com...    NaN  \n",
       "498     https://www.linkedin.com/company/harvard-jolly    NaN  \n",
       "499         https://www.linkedin.com/company/bsc-group    NaN  \n",
       "\n",
       "[500 rows x 8 columns]"
      ]
     },
     "execution_count": 48,
     "metadata": {},
     "output_type": "execute_result"
    }
   ],
   "source": [
    "design_df"
   ]
  },
  {
   "cell_type": "code",
   "execution_count": 37,
   "metadata": {},
   "outputs": [],
   "source": [
    "post_texts = [row['post'].lower() for i,row in design_posts_df.iterrows()]"
   ]
  },
  {
   "cell_type": "code",
   "execution_count": 38,
   "metadata": {},
   "outputs": [],
   "source": [
    "keyword_chk = {k:sum([k in t for t in post_texts]) for k in keyword_ls}"
   ]
  },
  {
   "cell_type": "code",
   "execution_count": 71,
   "metadata": {},
   "outputs": [],
   "source": [
    "keyword_dict=dict(sorted(keyword_chk.items(), key=lambda item: item[1],reverse=True))"
   ]
  },
  {
   "cell_type": "code",
   "execution_count": 72,
   "metadata": {},
   "outputs": [
    {
     "data": {
      "text/plain": [
       "{'team': 10233,\n",
       " 'learn': 8609,\n",
       " 'community': 4391,\n",
       " 'know': 2618,\n",
       " 'ability': 2616,\n",
       " 'change': 2415,\n",
       " 'inform': 1736,\n",
       " 'quality': 1570,\n",
       " 'cultur': 1565,\n",
       " 'perform': 1332,\n",
       " 'value': 1177,\n",
       " 'train': 983,\n",
       " 'effect': 955,\n",
       " 'product': 861,\n",
       " 'network': 781,\n",
       " 'skill': 769,\n",
       " 'communicat': 743,\n",
       " 'transition': 454,\n",
       " 'tradition': 409,\n",
       " 'capab': 393,\n",
       " 'capacity': 335,\n",
       " 'reliab': 308}"
      ]
     },
     "execution_count": 72,
     "metadata": {},
     "output_type": "execute_result"
    }
   ],
   "source": [
    "keyword_dict"
   ]
  },
  {
   "cell_type": "code",
   "execution_count": 77,
   "metadata": {},
   "outputs": [],
   "source": [
    "keyword_df = pd.DataFrame.from_dict(keyword_dict,orient='index')"
   ]
  },
  {
   "cell_type": "code",
   "execution_count": 78,
   "metadata": {},
   "outputs": [
    {
     "data": {
      "text/html": [
       "<div>\n",
       "<style scoped>\n",
       "    .dataframe tbody tr th:only-of-type {\n",
       "        vertical-align: middle;\n",
       "    }\n",
       "\n",
       "    .dataframe tbody tr th {\n",
       "        vertical-align: top;\n",
       "    }\n",
       "\n",
       "    .dataframe thead th {\n",
       "        text-align: right;\n",
       "    }\n",
       "</style>\n",
       "<table border=\"1\" class=\"dataframe\">\n",
       "  <thead>\n",
       "    <tr style=\"text-align: right;\">\n",
       "      <th></th>\n",
       "      <th>0</th>\n",
       "    </tr>\n",
       "  </thead>\n",
       "  <tbody>\n",
       "    <tr>\n",
       "      <th>team</th>\n",
       "      <td>10233</td>\n",
       "    </tr>\n",
       "    <tr>\n",
       "      <th>learn</th>\n",
       "      <td>8609</td>\n",
       "    </tr>\n",
       "    <tr>\n",
       "      <th>community</th>\n",
       "      <td>4391</td>\n",
       "    </tr>\n",
       "    <tr>\n",
       "      <th>know</th>\n",
       "      <td>2618</td>\n",
       "    </tr>\n",
       "    <tr>\n",
       "      <th>ability</th>\n",
       "      <td>2616</td>\n",
       "    </tr>\n",
       "  </tbody>\n",
       "</table>\n",
       "</div>"
      ],
      "text/plain": [
       "               0\n",
       "team       10233\n",
       "learn       8609\n",
       "community   4391\n",
       "know        2618\n",
       "ability     2616"
      ]
     },
     "execution_count": 78,
     "metadata": {},
     "output_type": "execute_result"
    }
   ],
   "source": [
    "keyword_df.head()"
   ]
  },
  {
   "cell_type": "code",
   "execution_count": 150,
   "metadata": {},
   "outputs": [
    {
     "data": {
      "image/png": "[encoded data removed]",
      "text/plain": [
       "<Figure size 432x288 with 1 Axes>"
      ]
     },
     "metadata": {
      "needs_background": "light"
     },
     "output_type": "display_data"
    }
   ],
   "source": [
    "import matplotlib.pyplot as plt\n",
    "\n",
    "fig = plt.figure()\n",
    "ax = fig.add_axes([0,0,1,1])\n",
    "ax.bar(keyword_df.index[:9],keyword_df[0][:9])\n",
    "#ax.xlabel('')\n",
    "plt.show()"
   ]
  },
  {
   "cell_type": "markdown",
   "metadata": {},
   "source": [
    "+ wall street journal\n",
    "+ forbes\n",
    "+ cnn\n",
    "+ washington post\n",
    "+ msnbc\n",
    "+ financial times\n",
    "+ enr"
   ]
  }
 ],
 "metadata": {
  "kernelspec": {
   "display_name": "Python 3",
   "language": "python",
   "name": "python3"
  },
  "language_info": {
   "codemirror_mode": {
    "name": "ipython",
    "version": 3
   },
   "file_extension": ".py",
   "mimetype": "text/x-python",
   "name": "python",
   "nbconvert_exporter": "python",
   "pygments_lexer": "ipython3",
   "version": "3.8.6"
  }
 },
 "nbformat": 4,
 "nbformat_minor": 4
}
